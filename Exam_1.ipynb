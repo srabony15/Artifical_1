{
 "cells": [
  {
   "cell_type": "markdown",
   "id": "651b39fb",
   "metadata": {},
   "source": [
    "a=int(input())\n",
    "b=int(input())\n",
    "\n",
    "print((\"Multiplication:\", a,\"*\" , b,\"=\",a*b)"
   ]
  },
  {
   "cell_type": "code",
   "execution_count": null,
   "id": "d08e3fe9",
   "metadata": {},
   "outputs": [],
   "source": [
    "\n"
   ]
  }
 ],
 "metadata": {
  "kernelspec": {
   "display_name": "Python 3 (ipykernel)",
   "language": "python",
   "name": "python3"
  },
  "language_info": {
   "codemirror_mode": {
    "name": "ipython",
    "version": 3
   },
   "file_extension": ".py",
   "mimetype": "text/x-python",
   "name": "python",
   "nbconvert_exporter": "python",
   "pygments_lexer": "ipython3",
   "version": "3.9.12"
  }
 },
 "nbformat": 4,
 "nbformat_minor": 5
}
