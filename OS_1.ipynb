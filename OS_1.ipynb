{
 "cells": [
  {
   "cell_type": "code",
   "execution_count": null,
   "metadata": {},
   "outputs": [],
   "source": [
    "n=int(input(\"Number of process :\"))"
   ]
  },
  {
   "cell_type": "code",
   "execution_count": null,
   "metadata": {},
   "outputs": [],
   "source": [
    "arr=[[0 for i in range(7)] for j in range(n)]\n"
   ]
  },
  {
   "cell_type": "code",
   "execution_count": null,
   "metadata": {},
   "outputs": [],
   "source": [
    "print(arr)"
   ]
  },
  {
   "cell_type": "code",
   "execution_count": null,
   "metadata": {},
   "outputs": [],
   "source": [
    "for i in range(n):\n",
    "    pid,at,bt=input().split()\n",
    "    arr[i][0]=int(pid)\n",
    "    arr[i][1]=int(at)\n",
    "    arr[i][2]=int(bt)"
   ]
  },
  {
   "cell_type": "code",
   "execution_count": null,
   "metadata": {},
   "outputs": [],
   "source": [
    "print(arr)"
   ]
  },
  {
   "cell_type": "code",
   "execution_count": null,
   "metadata": {},
   "outputs": [],
   "source": [
    "arr=sorted(arr,key=lambda x:x[1])"
   ]
  },
  {
   "cell_type": "code",
   "execution_count": null,
   "metadata": {},
   "outputs": [],
   "source": [
    "print(arr)"
   ]
  },
  {
   "cell_type": "code",
   "execution_count": null,
   "metadata": {},
   "outputs": [],
   "source": [
    "avg_rt = 0\n",
    "avg_ct = 0\n",
    "avg_wt = 0\n",
    "avg_tt = 0\n",
    "current_time = 0\n",
    "for i in range(n):\n",
    "    at = arr[i][1]\n",
    "    bt = arr[i][2]\n",
    "    if current_time < at:\n",
    "        current_time = at\n",
    "    starting_time = current_time\n",
    "    ct = starting_time + bt\n",
    "    arr[i][3] = starting_time - at #RT\n",
    "    arr[i][4] = ct                 #CT\n",
    "    arr[i][6] = ct - at            #TT\n",
    "    arr[i][5] = arr[i][6] - bt     #WT\n",
    "    \n",
    "    avg_rt = avg_rt = arr[i][3]\n",
    "    avg_ct = avg_ct = arr[i][4]\n",
    "    avg_wt = avg_wt = arr[i][5]\n",
    "    avg_tt = avg_tt = arr[i][6] \n",
    "    \n",
    "    current_time = ct"
   ]
  },
  {
   "cell_type": "code",
   "execution_count": null,
   "metadata": {},
   "outputs": [],
   "source": [
    "print(arr)"
   ]
  },
  {
   "cell_type": "code",
   "execution_count": null,
   "metadata": {},
   "outputs": [],
   "source": [
    "avg_rt = avg_rt / n\n",
    "avg_ct = avg_ct / n\n",
    "avg_wt = avg_wt / n\n",
    "avg_tt = avg_tt / n\n",
    "\n",
    "print(\"AVG_RT :\" + str(avg_rt) + \"\\n\" + \"AVG_CT :\" +str(avg_ct) + \"\\n\" + \"AVG_WT :\" +str(avg_wt) + \"\\n\" + \"AVG_TT :\" +str(avg_tt) + \"\\n\")"
   ]
  },
  {
   "cell_type": "code",
   "execution_count": null,
   "metadata": {},
   "outputs": [],
   "source": []
  }
 ],
 "metadata": {
  "kernelspec": {
   "display_name": "Python 3 (ipykernel)",
   "language": "python",
   "name": "python3"
  },
  "language_info": {
   "codemirror_mode": {
    "name": "ipython",
    "version": 3
   },
   "file_extension": ".py",
   "mimetype": "text/x-python",
   "name": "python",
   "nbconvert_exporter": "python",
   "pygments_lexer": "ipython3",
   "version": "3.9.12"
  }
 },
 "nbformat": 4,
 "nbformat_minor": 4
}
