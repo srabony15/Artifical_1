{
 "cells": [
  {
   "cell_type": "code",
   "execution_count": 1,
   "id": "7f60dfb9",
   "metadata": {},
   "outputs": [
    {
     "name": "stdout",
     "output_type": "stream",
     "text": [
      "Rows: 3\n",
      "Columns: 3\n",
      "[[0.60088376 0.97370345 0.78100034]\n",
      " [0.75510585 0.2366668  0.63033435]\n",
      " [0.72370283 0.96249943 0.02636256]]\n"
     ]
    }
   ],
   "source": [
    "import numpy as np\n",
    "from numpy import random\n",
    "E=int(input(\"Rows: \"))\n",
    "D=int(input(\"Columns: \"))\n",
    "matrix = random.rand(E,D)\n",
    "print(matrix)\n"
   ]
  },
  {
   "cell_type": "code",
   "execution_count": null,
   "id": "666fb8b6",
   "metadata": {},
   "outputs": [],
   "source": []
  }
 ],
 "metadata": {
  "kernelspec": {
   "display_name": "Python 3 (ipykernel)",
   "language": "python",
   "name": "python3"
  },
  "language_info": {
   "codemirror_mode": {
    "name": "ipython",
    "version": 3
   },
   "file_extension": ".py",
   "mimetype": "text/x-python",
   "name": "python",
   "nbconvert_exporter": "python",
   "pygments_lexer": "ipython3",
   "version": "3.9.12"
  }
 },
 "nbformat": 4,
 "nbformat_minor": 5
}
