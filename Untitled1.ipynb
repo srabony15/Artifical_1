{
 "cells": [
  {
   "cell_type": "code",
   "execution_count": 1,
   "id": "2f300a5e",
   "metadata": {},
   "outputs": [],
   "source": [
    "day  = ['sunday', 'monday', 'tuesday', 'wednesday', 'thursday']\n",
    "batch =['1930', '2001', '2002', '2003', '2101', '2102', '2103', '2201', '2202', '2301']\n",
    "time = ['0830', '1000', '1130', '0100', '0230']\n",
    "var = {}\n",
    "list = []\n",
    "\n",
    "def CreateVar():\n",
    "    for i in day:\n",
    "        for j in batch:\n",
    "            for k in time:\n",
    "                list.append(i+'-'+j+'-'+ k)\n",
    "\n",
    "    for i in list:\n",
    "        var[i] = 0\n",
    "CreateVar()"
   ]
  },
  {
   "cell_type": "code",
   "execution_count": null,
   "id": "208cae2c",
   "metadata": {},
   "outputs": [],
   "source": []
  }
 ],
 "metadata": {
  "kernelspec": {
   "display_name": "Python 3 (ipykernel)",
   "language": "python",
   "name": "python3"
  },
  "language_info": {
   "codemirror_mode": {
    "name": "ipython",
    "version": 3
   },
   "file_extension": ".py",
   "mimetype": "text/x-python",
   "name": "python",
   "nbconvert_exporter": "python",
   "pygments_lexer": "ipython3",
   "version": "3.9.12"
  }
 },
 "nbformat": 4,
 "nbformat_minor": 5
}
